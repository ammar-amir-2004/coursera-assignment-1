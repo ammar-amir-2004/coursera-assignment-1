{
  "metadata": {
    "kernelspec": {
      "name": "python",
      "display_name": "Python (Pyodide)",
      "language": "python"
    },
    "language_info": {
      "codemirror_mode": {
        "name": "python",
        "version": 3
      },
      "file_extension": ".py",
      "mimetype": "text/x-python",
      "name": "python",
      "nbconvert_exporter": "python",
      "pygments_lexer": "ipython3",
      "version": "3.8"
    }
  },
  "nbformat_minor": 5,
  "nbformat": 4,
  "cells": [
    {
      "id": "356fa24b-0de8-4eda-b3e5-b48a7642501f",
      "cell_type": "markdown",
      "source": "# Data Science Tools and Ecosystem",
      "metadata": {}
    },
    {
      "id": "cd89c147-0326-476b-84bf-b3007a217071",
      "cell_type": "markdown",
      "source": "In this notebook, Data Science Tools and Ecosystem are summarized.",
      "metadata": {}
    },
    {
      "id": "26b5f960-e5a7-4ecb-8d93-0a1709b46a06",
      "cell_type": "markdown",
      "source": "Some of the popular languages that Data Scientists use are:\n\n1. R\n2. Python\n3. SQL",
      "metadata": {}
    },
    {
      "id": "75a2c269-b9cf-4a4e-aa08-c00c5feb27fe",
      "cell_type": "markdown",
      "source": "**Objectives:**\n\n* R is for statistical analysis and data visualization.\n* Python is for general-purpose programming language with a robust data science ecosystem.\n* SQL is essential for data extraction, manipulation, and querying structured data.",
      "metadata": {}
    },
    {
      "id": "a94b80b5-5d65-4f73-a4b2-10c8672b734d",
      "cell_type": "markdown",
      "source": "Some of the commonly used libraries used by Data Scientists include:\n\n1. Scikit-learn\n2. Numpy\n3. Matploylib\n4. Pandas",
      "metadata": {}
    },
    {
      "id": "cfc529da-4892-4861-a2b8-9fecc8ee9441",
      "cell_type": "markdown",
      "source": "| Data Science Tools |\n|----------------------|\n|Apache Spark|\n|Apache Hadoop|\n|Tableau|",
      "metadata": {}
    },
    {
      "id": "6d66a2ce-7f68-4f63-b7c4-ecd1d5972887",
      "cell_type": "markdown",
      "source": "### Below are a few examples of evaluating arithmetic expressions in Python\n\n",
      "metadata": {}
    },
    {
      "id": "55205b23-9225-4f02-8846-329c8fb55159",
      "cell_type": "markdown",
      "source": "This a simple arithmetic expression to mutiply then add integers",
      "metadata": {}
    },
    {
      "id": "49bb2da3-89fb-4315-9d1a-9d774ebb8fb5",
      "cell_type": "code",
      "source": "(3*4)+5",
      "metadata": {
        "trusted": true
      },
      "outputs": [
        {
          "execution_count": 15,
          "output_type": "execute_result",
          "data": {
            "text/plain": "17"
          },
          "metadata": {}
        }
      ],
      "execution_count": 15
    },
    {
      "id": "1c79f11d-7d03-42ad-b238-d0fb0e889b0f",
      "cell_type": "markdown",
      "source": " This will convert 200 minutes to hours by diving by 60",
      "metadata": {}
    },
    {
      "id": "351a91b6-5042-4283-bfd9-44c26a54497f",
      "cell_type": "code",
      "source": "200/60",
      "metadata": {
        "trusted": true
      },
      "outputs": [
        {
          "execution_count": 16,
          "output_type": "execute_result",
          "data": {
            "text/plain": "3.3333333333333335"
          },
          "metadata": {}
        }
      ],
      "execution_count": 16
    },
    {
      "id": "6aaccaea-5795-475e-820b-c9d35718e735",
      "cell_type": "markdown",
      "source": "## Author\n\nSheikh Muhammad Ammar",
      "metadata": {}
    }
  ]
}